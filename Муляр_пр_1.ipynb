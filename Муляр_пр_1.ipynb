{
  "nbformat": 4,
  "nbformat_minor": 0,
  "metadata": {
    "colab": {
      "provenance": [],
      "authorship_tag": "ABX9TyO0PSSeYkTeAq4HLYtuG8Hb",
      "include_colab_link": true
    },
    "kernelspec": {
      "name": "python3",
      "display_name": "Python 3"
    },
    "language_info": {
      "name": "python"
    }
  },
  "cells": [
    {
      "cell_type": "markdown",
      "metadata": {
        "id": "view-in-github",
        "colab_type": "text"
      },
      "source": [
        "<a href=\"https://colab.research.google.com/github/Mular56/Machine_learning/blob/main/%D0%9C%D1%83%D0%BB%D1%8F%D1%80_%D0%BF%D1%80_1.ipynb\" target=\"_parent\"><img src=\"https://colab.research.google.com/assets/colab-badge.svg\" alt=\"Open In Colab\"/></a>"
      ]
    },
    {
      "cell_type": "markdown",
      "source": [
        "Муляр Вікторія\n",
        "Варіант 20"
      ],
      "metadata": {
        "id": "OkT8GjO0o3X0"
      }
    },
    {
      "cell_type": "code",
      "source": [
        "# Завдання 1\n",
        "# Створіть одновимірний масив (вектор) з сумами кожного числа та його\n",
        "# попереднього, починаючи з 1, та виведіть його значення.\n",
        "\n",
        "import numpy as np\n",
        "\n",
        "n = 10\n",
        "arr = np.arange(1, n + 1)\n",
        "result = np.zeros(n, dtype=int)\n",
        "\n",
        "for i in range(n):\n",
        "    if i == 0:\n",
        "        result[i] = arr[i]\n",
        "    else:\n",
        "        result[i] = arr[i] + arr[i - 1]\n",
        "\n",
        "print(result)\n"
      ],
      "metadata": {
        "colab": {
          "base_uri": "https://localhost:8080/"
        },
        "id": "pdJYSIDxo95S",
        "outputId": "783a6f4f-31f4-4481-eb89-3ff81277e435"
      },
      "execution_count": 1,
      "outputs": [
        {
          "output_type": "stream",
          "name": "stdout",
          "text": [
            "[ 1  3  5  7  9 11 13 15 17 19]\n"
          ]
        }
      ]
    },
    {
      "cell_type": "code",
      "source": [
        "# Завдання 2\n",
        "# Створіть двовимірний масив (матрицю) розміром 3x3, заповніть його значеннями\n",
        "# випадкових дійсних чисел від 1 до 10.\n",
        "\n",
        "import numpy as np\n",
        "\n",
        "rows, cols = 3, 3\n",
        "matrix = np.random.uniform(1, 10, size=(rows, cols))\n",
        "\n",
        "print(matrix)\n"
      ],
      "metadata": {
        "colab": {
          "base_uri": "https://localhost:8080/"
        },
        "id": "lev6Tgv6qzvD",
        "outputId": "4c9f9813-36db-43c0-fab2-46ee3e15eefd"
      },
      "execution_count": 2,
      "outputs": [
        {
          "output_type": "stream",
          "name": "stdout",
          "text": [
            "[[2.56043802 1.81634342 5.95976177]\n",
            " [9.69797122 4.69066527 9.89048635]\n",
            " [7.25672534 3.25715327 9.53015224]]\n"
          ]
        }
      ]
    },
    {
      "cell_type": "code",
      "source": [
        "# Завдання 3\n",
        "# Створіть масив розміром 3x3, заповніть його випадковими натуральними числами від\n",
        "# 1 до 100 та виведіть мін значення\n",
        "\n",
        "import numpy as np\n",
        "\n",
        "rows, cols = 3, 3\n",
        "matrix = np.random.randint(1, 101, size=(rows, cols))\n",
        "min_value = np.min(matrix)\n",
        "\n",
        "print(\"Матриця:\")\n",
        "print(matrix)\n",
        "print(\"Мінімальне значення:\", min_value)\n"
      ],
      "metadata": {
        "colab": {
          "base_uri": "https://localhost:8080/"
        },
        "id": "Px59l7rPrcpT",
        "outputId": "66d650bb-26c0-408c-822f-1455c257850f"
      },
      "execution_count": 4,
      "outputs": [
        {
          "output_type": "stream",
          "name": "stdout",
          "text": [
            "Матриця:\n",
            "[[ 9 83 37]\n",
            " [ 8 70 47]\n",
            " [54 67 66]]\n",
            "Мінімальне значення: 8\n"
          ]
        }
      ]
    },
    {
      "cell_type": "code",
      "source": [
        "# Завдання 4\n",
        "# Створіть масив розміром 4x4, заповніть його випадковими дійсними числами в\n",
        "# діапазоні від 0 до 1 та знайдіть кількість елементів, що більше 0.5.\n",
        "\n",
        "import numpy as np\n",
        "\n",
        "matrix = np.random.uniform(0, 1, size=(4, 4))\n",
        "count = np.sum(matrix > 0.5)\n",
        "\n",
        "print(\"Матриця:\")\n",
        "print(matrix)\n",
        "print(\"Кількість елементів, що більше 0.5:\", count)\n"
      ],
      "metadata": {
        "colab": {
          "base_uri": "https://localhost:8080/"
        },
        "id": "WWeM1hrJrj7F",
        "outputId": "36312f1a-c96d-4934-fd2c-869a34d8e7ea"
      },
      "execution_count": 5,
      "outputs": [
        {
          "output_type": "stream",
          "name": "stdout",
          "text": [
            "Матриця:\n",
            "[[0.14677948 0.29427223 0.421005   0.86380585]\n",
            " [0.78499895 0.67860303 0.15544116 0.62540184]\n",
            " [0.36699419 0.68321033 0.59373711 0.42369064]\n",
            " [0.50239989 0.71174079 0.78755388 0.29369677]]\n",
            "Кількість елементів, що більше 0.5: 9\n"
          ]
        }
      ]
    },
    {
      "cell_type": "code",
      "source": [
        "# Завдання 5\n",
        "# Створіть два одновимірних масиви розміром 4, заповніть їх випадковими цілими\n",
        "# числами від -10 до 10 та виконайте на них поелементні операції додавання, віднімання\n",
        "# та множення.\n",
        "\n",
        "import numpy as np\n",
        "\n",
        "array1 = np.random.randint(-10, 11, size=4)\n",
        "array2 = np.random.randint(-10, 11, size=4)\n",
        "\n",
        "addition = array1 + array2\n",
        "subtraction = array1 - array2\n",
        "multiplication = array1 * array2\n",
        "\n",
        "print(\"Масив 1:\")\n",
        "print(array1)\n",
        "print(\"Масив 2:\")\n",
        "print(array2)\n",
        "print(\"Додавання:\")\n",
        "print(addition)\n",
        "print(\"Віднімання:\")\n",
        "print(subtraction)\n",
        "print(\"Множення:\")\n",
        "print(multiplication)\n"
      ],
      "metadata": {
        "colab": {
          "base_uri": "https://localhost:8080/"
        },
        "id": "Yi6H4qQCrj4O",
        "outputId": "e4ea16f0-17cf-4315-a26d-2db66a57b6d2"
      },
      "execution_count": 6,
      "outputs": [
        {
          "output_type": "stream",
          "name": "stdout",
          "text": [
            "Масив 1:\n",
            "[10  9 -6  8]\n",
            "Масив 2:\n",
            "[  0  -1 -10   6]\n",
            "Додавання:\n",
            "[ 10   8 -16  14]\n",
            "Віднімання:\n",
            "[10 10  4  2]\n",
            "Множення:\n",
            "[ 0 -9 60 48]\n"
          ]
        }
      ]
    },
    {
      "cell_type": "code",
      "source": [
        "# Завдання 6\n",
        "# Створіть дві матриці 3x3, заповніть їх довільними цілими числами від 1 до 20 та\n",
        "# знайдіть їх добуток.\n",
        "\n",
        "import numpy as np\n",
        "\n",
        "matrix1 = np.random.randint(1, 21, size=(3, 3))\n",
        "matrix2 = np.random.randint(1, 21, size=(3, 3))\n",
        "\n",
        "product = np.dot(matrix1, matrix2)\n",
        "\n",
        "print(\"Матриця 1:\")\n",
        "print(matrix1)\n",
        "print(\"Матриця 2:\")\n",
        "print(matrix2)\n",
        "print(\"Добуток матриць:\")\n",
        "print(product)\n"
      ],
      "metadata": {
        "colab": {
          "base_uri": "https://localhost:8080/"
        },
        "id": "RR06rYmwrj1M",
        "outputId": "ec3da2e9-ae15-43ec-9e63-26031e03a2a7"
      },
      "execution_count": 7,
      "outputs": [
        {
          "output_type": "stream",
          "name": "stdout",
          "text": [
            "Матриця 1:\n",
            "[[11 16 12]\n",
            " [ 1  4  6]\n",
            " [ 8  3  2]]\n",
            "Матриця 2:\n",
            "[[ 8  2 16]\n",
            " [11 10 14]\n",
            " [ 7 14  2]]\n",
            "Добуток матриць:\n",
            "[[348 350 424]\n",
            " [ 94 126  84]\n",
            " [111  74 174]]\n"
          ]
        }
      ]
    },
    {
      "cell_type": "code",
      "source": [
        "# Завдання 7\n",
        "# Створіть дві матриці розміром 2x3 та 3x3, заповніть їх випадковими цілими числами\n",
        "# в діапазоні від 1 до 4 та перемножте їх між собою.\n",
        "\n",
        "import numpy as np\n",
        "\n",
        "matrix1 = np.random.randint(1, 5, size=(2, 3))\n",
        "matrix2 = np.random.randint(1, 5, size=(3, 3))\n",
        "\n",
        "product = np.dot(matrix1, matrix2)\n",
        "\n",
        "print(\"Матриця 1:\")\n",
        "print(matrix1)\n",
        "print(\"Матриця 2:\")\n",
        "print(matrix2)\n",
        "print(\"Добуток матриць:\")\n",
        "print(product)\n"
      ],
      "metadata": {
        "colab": {
          "base_uri": "https://localhost:8080/"
        },
        "id": "zmxj-0nDrjxx",
        "outputId": "78fdc4a1-88d4-4797-fa4e-520044ea3104"
      },
      "execution_count": 8,
      "outputs": [
        {
          "output_type": "stream",
          "name": "stdout",
          "text": [
            "Матриця 1:\n",
            "[[1 2 1]\n",
            " [4 4 3]]\n",
            "Матриця 2:\n",
            "[[3 4 1]\n",
            " [1 4 4]\n",
            " [4 3 3]]\n",
            "Добуток матриць:\n",
            "[[ 9 15 12]\n",
            " [28 41 29]]\n"
          ]
        }
      ]
    },
    {
      "cell_type": "code",
      "source": [
        "# Завдання 8\n",
        "# Створіть матрицю розміром 3x3, заповніть її випадковими цілими числами в діапазоні\n",
        "# від 1 до 7 та знайдіть її обернену матрицю.\n",
        "\n",
        "import numpy as np\n",
        "\n",
        "matrix = np.random.randint(1, 8, size=(3, 3))\n",
        "\n",
        "try:\n",
        "    inverse_matrix = np.linalg.inv(matrix)\n",
        "    print(\"Матриця:\")\n",
        "    print(matrix)\n",
        "    print(\"Обернена матриця:\")\n",
        "    print(inverse_matrix)\n",
        "except np.linalg.LinAlgError:\n",
        "    print(\"Матриця не є оберненою (можливо, її детермінант дорівнює нулю).\")\n"
      ],
      "metadata": {
        "colab": {
          "base_uri": "https://localhost:8080/"
        },
        "id": "YcQbAxSNrjuo",
        "outputId": "736d7814-2cf7-415c-8035-fdc3ac82f4f0"
      },
      "execution_count": 9,
      "outputs": [
        {
          "output_type": "stream",
          "name": "stdout",
          "text": [
            "Матриця:\n",
            "[[1 5 3]\n",
            " [1 6 7]\n",
            " [7 3 3]]\n",
            "Обернена матриця:\n",
            "[[-0.02727273 -0.05454545  0.15454545]\n",
            " [ 0.41818182 -0.16363636 -0.03636364]\n",
            " [-0.35454545  0.29090909  0.00909091]]\n"
          ]
        }
      ]
    },
    {
      "cell_type": "code",
      "source": [
        "# Завдання 9\n",
        "# Створіть матрицю розміром 4x4, заповніть її випадковими цілими числами в діапазоні\n",
        "# від 0 до 1 та транспонуйте її.\n",
        "\n",
        "import numpy as np\n",
        "\n",
        "matrix = np.random.randint(0, 2, size=(4, 4))\n",
        "transposed_matrix = np.transpose(matrix)\n",
        "\n",
        "print(\"Матриця:\")\n",
        "print(matrix)\n",
        "print(\"Транспонована матриця:\")\n",
        "print(transposed_matrix)\n"
      ],
      "metadata": {
        "colab": {
          "base_uri": "https://localhost:8080/"
        },
        "id": "VoJ6Oiberjr3",
        "outputId": "557aa535-28a5-4338-da7f-2f06df308317"
      },
      "execution_count": 10,
      "outputs": [
        {
          "output_type": "stream",
          "name": "stdout",
          "text": [
            "Матриця:\n",
            "[[1 1 0 0]\n",
            " [1 1 1 1]\n",
            " [0 0 1 0]\n",
            " [1 0 0 0]]\n",
            "Транспонована матриця:\n",
            "[[1 1 0 1]\n",
            " [1 1 0 0]\n",
            " [0 1 1 0]\n",
            " [0 1 0 0]]\n"
          ]
        }
      ]
    },
    {
      "cell_type": "code",
      "source": [
        "# Завдання 10\n",
        "# Створіть матрицю розміром 3x4 та вектор розміром 4x1, заповніть матрицю\n",
        "# випадковими дійсними числами від 0 до 1, а вектор - випадковими дійсними числами\n",
        "# від 0 до 1, і знайдіть добуток матриці на вектор\n",
        "\n",
        "import numpy as np\n",
        "\n",
        "matrix = np.random.uniform(0, 1, size=(3, 4))\n",
        "vector = np.random.uniform(0, 1, size=(4, 1))\n",
        "\n",
        "product = np.dot(matrix, vector)\n",
        "\n",
        "print(\"Матриця:\")\n",
        "print(matrix)\n",
        "print(\"Вектор:\")\n",
        "print(vector)\n",
        "print(\"Добуток матриці на вектор:\")\n",
        "print(product)\n"
      ],
      "metadata": {
        "colab": {
          "base_uri": "https://localhost:8080/"
        },
        "id": "yKdwYZFbrjo7",
        "outputId": "6f3195bf-1a4d-48ac-e372-100931c11d35"
      },
      "execution_count": 11,
      "outputs": [
        {
          "output_type": "stream",
          "name": "stdout",
          "text": [
            "Матриця:\n",
            "[[0.20865856 0.84838036 0.39589847 0.5550927 ]\n",
            " [0.55169381 0.13835769 0.15385238 0.52132836]\n",
            " [0.32612889 0.04854514 0.63985967 0.46546789]]\n",
            "Вектор:\n",
            "[[0.60292666]\n",
            " [0.71714268]\n",
            " [0.53189329]\n",
            " [0.78211308]]\n",
            "Добуток матриці на вектор:\n",
            "[[1.37893658]\n",
            " [0.92142389]\n",
            " [0.93583119]]\n"
          ]
        }
      ]
    },
    {
      "cell_type": "code",
      "source": [
        "# Завдання 11\n",
        "# Створіть матрицю розміром 2x3 та вектор розміром 3x1, заповніть матрицю\n",
        "# випадковими дійсними числами від 0 до 1, а вектор - випадковими дійсними числами\n",
        "# від 0 до 1, і знайдіть добуток матриці на вектор\n",
        "\n",
        "import numpy as np\n",
        "\n",
        "matrix = np.random.uniform(0, 1, size=(2, 3))\n",
        "vector = np.random.uniform(0, 1, size=(3, 1))\n",
        "\n",
        "product = np.dot(matrix, vector)\n",
        "\n",
        "print(\"Матриця:\")\n",
        "print(matrix)\n",
        "print(\"Вектор:\")\n",
        "print(vector)\n",
        "print(\"Добуток матриці на вектор:\")\n",
        "print(product)\n"
      ],
      "metadata": {
        "colab": {
          "base_uri": "https://localhost:8080/"
        },
        "id": "KY51VM_frjle",
        "outputId": "547ef437-1373-4d45-d82f-af6008da2cf9"
      },
      "execution_count": 14,
      "outputs": [
        {
          "output_type": "stream",
          "name": "stdout",
          "text": [
            "Матриця:\n",
            "[[0.20834135 0.50535003 0.53846732]\n",
            " [0.20760692 0.12500758 0.34317715]]\n",
            "Вектор:\n",
            "[[0.35899232]\n",
            " [0.74599142]\n",
            " [0.62880905]]\n",
            "Добуток матриці на вектор:\n",
            "[[0.79037285]\n",
            " [0.38357677]]\n"
          ]
        }
      ]
    },
    {
      "cell_type": "code",
      "source": [
        "# Завдання 12\n",
        "# Створіть дві матриці розміром 3x3, заповніть їх випадковими цілими числами в\n",
        "# діапазоні від 1 до 5 та знайдіть добуток елементів діагоналі другої матриці.\n",
        "\n",
        "import numpy as np\n",
        "\n",
        "matrix1 = np.random.randint(1, 6, size=(3, 3))\n",
        "matrix2 = np.random.randint(1, 6, size=(3, 3))\n",
        "\n",
        "diagonal_elements = np.diag(matrix2)\n",
        "product_of_diagonal = np.prod(diagonal_elements)\n",
        "\n",
        "print(\"Матриця 1:\")\n",
        "print(matrix1)\n",
        "print(\"Матриця 2:\")\n",
        "print(matrix2)\n",
        "print(\"Добуток елементів діагоналі другої матриці:\")\n",
        "print(product_of_diagonal)\n"
      ],
      "metadata": {
        "colab": {
          "base_uri": "https://localhost:8080/"
        },
        "id": "yZP8Km06rjdA",
        "outputId": "a1d25429-210d-4c97-cd6b-ce8cd267fa20"
      },
      "execution_count": 15,
      "outputs": [
        {
          "output_type": "stream",
          "name": "stdout",
          "text": [
            "Матриця 1:\n",
            "[[1 5 1]\n",
            " [4 1 3]\n",
            " [4 1 4]]\n",
            "Матриця 2:\n",
            "[[2 5 4]\n",
            " [5 5 3]\n",
            " [2 5 5]]\n",
            "Добуток елементів діагоналі другої матриці:\n",
            "50\n"
          ]
        }
      ]
    },
    {
      "cell_type": "code",
      "source": [
        "# Завдання 13\n",
        "# Створіть дві матриці розміром 4x4, заповніть їх випадковими цілими числами в\n",
        "# діапазоні від 1 до 5 та знайдіть різницю їх елементів.\n",
        "\n",
        "import numpy as np\n",
        "\n",
        "matrix1 = np.random.randint(1, 6, size=(4, 4))\n",
        "matrix2 = np.random.randint(1, 6, size=(4, 4))\n",
        "\n",
        "difference = matrix1 - matrix2\n",
        "\n",
        "print(\"Матриця 1:\")\n",
        "print(matrix1)\n",
        "print(\"Матриця 2:\")\n",
        "print(matrix2)\n",
        "print(\"Різниця матриць:\")\n",
        "print(difference)\n"
      ],
      "metadata": {
        "colab": {
          "base_uri": "https://localhost:8080/"
        },
        "id": "TJJJFWrGrjQM",
        "outputId": "3fc3d20f-e5d6-48ae-8355-c4f67e3f5d17"
      },
      "execution_count": 16,
      "outputs": [
        {
          "output_type": "stream",
          "name": "stdout",
          "text": [
            "Матриця 1:\n",
            "[[3 5 3 1]\n",
            " [1 5 1 2]\n",
            " [2 3 3 5]\n",
            " [2 5 1 3]]\n",
            "Матриця 2:\n",
            "[[5 2 3 2]\n",
            " [3 4 3 3]\n",
            " [1 3 3 1]\n",
            " [5 1 3 4]]\n",
            "Різниця матриць:\n",
            "[[-2  3  0 -1]\n",
            " [-2  1 -2 -1]\n",
            " [ 1  0  0  4]\n",
            " [-3  4 -2 -1]]\n"
          ]
        }
      ]
    },
    {
      "cell_type": "code",
      "source": [
        "# Завдання 14\n",
        "# Створіть матрицю розміром 3x3, заповніть її випадковими цілими числами в діапазоні\n",
        "# від 1 до 10 та знайдіть найменший елемент матриці.\n",
        "\n",
        "import numpy as np\n",
        "\n",
        "matrix = np.random.randint(1, 11, size=(3, 3))\n",
        "min_element = np.min(matrix)\n",
        "\n",
        "print(\"Матриця:\")\n",
        "print(matrix)\n",
        "print(\"Найменший елемент матриці:\")\n",
        "print(min_element)\n"
      ],
      "metadata": {
        "colab": {
          "base_uri": "https://localhost:8080/"
        },
        "id": "wdQjt1Yxr6Dn",
        "outputId": "0b5a8614-331c-469c-f24f-4ce2d0add02c"
      },
      "execution_count": 18,
      "outputs": [
        {
          "output_type": "stream",
          "name": "stdout",
          "text": [
            "Матриця:\n",
            "[[ 6  1 10]\n",
            " [ 4  2  2]\n",
            " [ 8  9  5]]\n",
            "Найменший елемент матриці:\n",
            "1\n"
          ]
        }
      ]
    },
    {
      "cell_type": "code",
      "source": [
        "# Завдання 15\n",
        "# Створіть матрицю розміром 3x3, заповніть її випадковими дійсними числами в\n",
        "# діапазоні від -2 до 2 та знайдіть вектор-стовпчик, що містить кількість ненульових\n",
        "# елементів в кожному рядку матриці.\n",
        "\n",
        "import numpy as np\n",
        "\n",
        "matrix = np.random.uniform(-2, 2, size=(3, 3))\n",
        "non_zero_counts = np.sum(matrix != 0, axis=1)\n",
        "\n",
        "print(\"Матриця:\")\n",
        "print(matrix)\n",
        "print(\"Кількість ненульових елементів в кожному рядку:\")\n",
        "print(non_zero_counts)\n"
      ],
      "metadata": {
        "colab": {
          "base_uri": "https://localhost:8080/"
        },
        "id": "qJ-p_oCvr7a_",
        "outputId": "b57f7b71-661f-4163-ffdb-d58eb2a358b6"
      },
      "execution_count": 19,
      "outputs": [
        {
          "output_type": "stream",
          "name": "stdout",
          "text": [
            "Матриця:\n",
            "[[ 1.98963527  1.84599625  1.35182506]\n",
            " [ 0.42056396  0.39977655 -0.58143856]\n",
            " [-1.78629286  0.96836641 -1.61241411]]\n",
            "Кількість ненульових елементів в кожному рядку:\n",
            "[3 3 3]\n"
          ]
        }
      ]
    },
    {
      "cell_type": "code",
      "source": [
        "\"\"\"\n",
        "Висновок:\n",
        "У ході виконання лабораторної роботи було розглянуто використання бібліотеки NumPy\n",
        "для роботи з масивами і матрицями. Було створено різні типи масивів, заповнені випадковими\n",
        "числами, виконано операції додавання, віднімання, множення, транспонування, знаходження\n",
        "оберненої матриці, добутку матриць та інші математичні операції. Використання NumPy дозволяє\n",
        "ефективно працювати з великими наборами даних і виконувати обчислення з високою продуктивністю.\n",
        "Завдання продемонстрували основні можливості бібліотеки для маніпуляцій з масивами та матрицями.\n",
        "\"\"\"\n"
      ],
      "metadata": {
        "id": "cDNZO6TAyJXy"
      },
      "execution_count": null,
      "outputs": []
    }
  ]
}